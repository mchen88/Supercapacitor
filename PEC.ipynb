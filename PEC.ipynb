{
 "cells": [
  {
   "cell_type": "code",
   "execution_count": 9,
   "metadata": {},
   "outputs": [],
   "source": [
    "import pandas as pd\n",
    "import numpy as np\n",
    "import math"
   ]
  },
  {
   "cell_type": "code",
   "execution_count": 8,
   "metadata": {},
   "outputs": [],
   "source": [
    "def I_t(input_file, electrode_area, names):\n",
    "    df = pd.read_csv(input_file, names = names)\n",
    "    starting_row = 0\n",
    "    row_list = df.index.tolist()\n",
    "    for row in row_list:\n",
    "        try:\n",
    "            float(df.loc[row, names[0]])\n",
    "            break\n",
    "        except ValueError:\n",
    "            starting_row += 1\n",
    "    df = pd.read_csv(input_file, header = starting_row-1, index_col = False, names = names)\n",
    "    df['Current density ($mA/cm^2$)'] = df[names[1]] * 1000 / electrode_area\n",
    "    return df"
   ]
  },
  {
   "cell_type": "code",
   "execution_count": 7,
   "metadata": {},
   "outputs": [],
   "source": [
    "def LSV(input_file, electrode_area, names):\n",
    "    df = pd.read_csv(input_file, names = names)\n",
    "    starting_row = 0\n",
    "    row_list = df.index.tolist()\n",
    "    for row in row_list:\n",
    "        try:\n",
    "            float(df.loc[row, names[0]])\n",
    "            break\n",
    "        except ValueError:\n",
    "            starting_row += 1\n",
    "    df = pd.read_csv(input_file, header = starting_row-1, index_col = False, names = names)\n",
    "    df['Potential (V vs RHE)'] = df[names[0]] + 0.0592 * 13.6 + 0.1976\n",
    "    df['Current density ($mA/cm^2$)'] = df[names[1]] * 1000 / electrode_area\n",
    "    return df"
   ]
  },
  {
   "cell_type": "code",
   "execution_count": 10,
   "metadata": {},
   "outputs": [],
   "source": [
    "def IMPE(input_file):\n",
    "    with open (input_file, 'r') as f:\n",
    "        starting_row = 1\n",
    "        lines = f.readlines()\n",
    "        for line in lines:\n",
    "            if 'Potential/V' in line:\n",
    "                print(f'Found, starting row is {starting_row}')\n",
    "                break\n",
    "            elif line == '\\n':\n",
    "                print('Blank line')\n",
    "            else:\n",
    "                starting_row += 1\n",
    "            \n",
    "    df = pd.read_csv(input_file, header = starting_row-1, sep = '\\t')\n",
    "    df[['Potential/V', 'Z\\'/ohm', 'Z\\\"/ohm', 'Z/ohm', 'Phase/deg']] = df['Potential/V, Z\\'/ohm, Z\\\"/ohm, Z/ohm, Phase/deg'].str.split(pat = ', ', expand = True)\n",
    "    df.drop('Potential/V, Z\\'/ohm, Z\\\"/ohm, Z/ohm, Phase/deg', axis = 1, inplace = True)\n",
    "    df = df.astype(float)\n",
    "    df['$1/C^2$'] = 4 * (math.pi**2) * 10**8 * (df['Z\\\"/ohm']**2)\n",
    "    df['Potential (V vs RHE)'] = df['Potential/V'] + 0.198 + 0.0592*13\n",
    "    df = df[['Potential (V vs RHE)', '$1/C^2$']]\n",
    "    index_list = df.index.tolist()\n",
    "    index_list\n",
    "\n",
    "    for index in index_list:\n",
    "        if df.apply(lambda x: x.is_monotonic)[1] == True:\n",
    "            break\n",
    "        else:\n",
    "            df.drop(labels = [index], axis = 0, inplace = True)\n",
    "\n",
    "    df.reset_index(drop = True, inplace = True)\n",
    "    return df"
   ]
  },
  {
   "cell_type": "code",
   "execution_count": 14,
   "metadata": {},
   "outputs": [],
   "source": [
    "def fitting(df, init):\n",
    "    coef = np.polyfit(df.loc[init:, 'Potential (V vs RHE)'], df.loc[init:, '$1/C^2$'], 1)\n",
    "    poly_fn = np.poly1d(coef)\n",
    "    return coef, poly_fn"
   ]
  }
 ],
 "metadata": {
  "kernelspec": {
   "display_name": "Python 3",
   "language": "python",
   "name": "python3"
  },
  "language_info": {
   "codemirror_mode": {
    "name": "ipython",
    "version": 3
   },
   "file_extension": ".py",
   "mimetype": "text/x-python",
   "name": "python",
   "nbconvert_exporter": "python",
   "pygments_lexer": "ipython3",
   "version": "3.7.0"
  }
 },
 "nbformat": 4,
 "nbformat_minor": 4
}
