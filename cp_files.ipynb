{
 "cells": [
  {
   "cell_type": "code",
   "execution_count": 5,
   "metadata": {},
   "outputs": [],
   "source": [
    "import os\n",
    "from shutil import copyfile"
   ]
  },
  {
   "cell_type": "code",
   "execution_count": 6,
   "metadata": {},
   "outputs": [],
   "source": [
    "if os.path.isdir('Data'):\n",
    "    pass\n",
    "else:\n",
    "    os.mkdir('Data')"
   ]
  },
  {
   "cell_type": "code",
   "execution_count": 7,
   "metadata": {},
   "outputs": [],
   "source": [
    "old_cv_list = [1, 2, 3, 4, 5, 6, 7, 8]\n",
    "new_cv_list = [5, 10, 20, 50, 100, 200, 500, 1000]\n",
    "old_cp_list = [9, 10, 11, 12, 13, 15, 16]\n",
    "new_cp_list = [20, 16, 12, 8, 4, 2, 1]\n",
    "\n",
    "original_list = [\n",
    "    'pristine 650 oC', '3% Ge 650 oC', '5% Ge 650 oC'\n",
    "]\n",
    "\n",
    "sample_list = [\n",
    "    'pristine 650 oC', '3.0% Ge 650 oC', '5.0% Ge 650 oC'\n",
    "]"
   ]
  },
  {
   "cell_type": "code",
   "execution_count": 8,
   "metadata": {},
   "outputs": [],
   "source": [
    "for original, sample in zip(original_list, sample_list):\n",
    "    for old_cv, new_cv in zip(old_cv_list, new_cv_list):\n",
    "        if os.path.isfile(f'{original}_{old_cv:02}_CV_C01.txt'):\n",
    "            if not(os.path.isfile(f'Data/{sample} CV {new_cv} mV s-1.txt')):\n",
    "                copyfile(f'{original}_{old_cv:02}_CV_C01.txt', f'Data/{sample} CV {new_cv} mV s-1.txt')\n",
    "            else:\n",
    "                pass\n",
    "        else:\n",
    "            print(f'{original}_{old_cv:02}_CV_C01.txt is not found!')\n",
    "            \n",
    "    for old_cp, new_cp in zip(old_cp_list, new_cp_list):\n",
    "        if os.path.isfile(f'{original}_{old_cp:02}_CP_C01.txt'):\n",
    "            if not(os.path.isfile(f'Data/{sample} CP {new_cp:02} mA cm-2.txt')):\n",
    "                copyfile(f'{original}_{old_cp:02}_CP_C01.txt', f'Data/{sample} CP {new_cp:02} mA cm-2.txt')\n",
    "            else:\n",
    "                pass\n",
    "        else:\n",
    "            print(f'{original}_{old_cp:02}_CP_C01.txt is not found!')\n",
    "\n",
    "    if os.path.isfile(f'{original}_18_PEIS_C01.txt'):\n",
    "        if not(os.path.isfile(f'Data/{sample} EIS.txt')):\n",
    "            copyfile(f'{original}_18_PEIS_C01.txt', f'Data/{sample} EIS.txt')\n",
    "        else:\n",
    "            pass\n",
    "    else:\n",
    "        print(f'{original}_18_PEIS_C01.txt is not found!')"
   ]
  },
  {
   "cell_type": "code",
   "execution_count": null,
   "metadata": {},
   "outputs": [],
   "source": []
  }
 ],
 "metadata": {
  "kernelspec": {
   "display_name": "Python 3",
   "language": "python",
   "name": "python3"
  },
  "language_info": {
   "codemirror_mode": {
    "name": "ipython",
    "version": 3
   },
   "file_extension": ".py",
   "mimetype": "text/x-python",
   "name": "python",
   "nbconvert_exporter": "python",
   "pygments_lexer": "ipython3",
   "version": "3.7.0"
  }
 },
 "nbformat": 4,
 "nbformat_minor": 4
}
